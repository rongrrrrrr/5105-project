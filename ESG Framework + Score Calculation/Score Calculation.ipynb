{
 "cells": [
  {
   "cell_type": "code",
   "execution_count": null,
   "metadata": {},
   "outputs": [],
   "source": [
    "# 读取上传的公司为行格式文件\n",
    "df = pd.read_excel(\"D:/HuaweiMoveData/Users/86136/Desktop/data/ESG_环境类_四项指标_公司为行_横向格式.xlsx\")\n",
    "\n",
    "# 保存公司列名\n",
    "company_col = \"公司\"\n",
    "\n",
    "# 对每个指标列进行分位数转换，缺失值使用该列均值填充后再计算分位数\n",
    "quantile_scaled = df.copy()\n",
    "for col in df.columns:\n",
    "    if col != company_col:\n",
    "        col_values = df[col]\n",
    "        filled = col_values.fillna(col_values.mean())\n",
    "        quantiles = filled.rank(pct=True)\n",
    "        quantile_scaled[col] = quantiles\n",
    "\n",
    "# 导出处理后的分位数评分表\n",
    "quantile_path = \"D:/HuaweiMoveData/Users/86136/Desktop/data/ESG_环境类_四项指标_分位数替换版.xlsx\"\n",
    "quantile_scaled.to_excel(quantile_path, index=False)"
   ]
  },
  {
   "cell_type": "code",
   "execution_count": null,
   "metadata": {},
   "outputs": [],
   "source": [
    "# 读取刚刚处理过的分位数表\n",
    "df_quantile = pd.read_excel(\"D:/HuaweiMoveData/Users/86136/Desktop/data/ESG_环境类_四项指标_分位数替换版.xlsx\")\n",
    "\n",
    "# 公司列不变，其他指标乘以10\n",
    "df_scaled = df_quantile.copy()\n",
    "for col in df_scaled.columns:\n",
    "    if col != \"公司\":\n",
    "        df_scaled[col] = df_scaled[col] * 10\n",
    "\n",
    "# 导出结果（0-10 评分）\n",
    "score_path = \"D:/HuaweiMoveData/Users/86136/Desktop/data/ESG_环境类_四项指标_0到10得分表.xlsx\"\n",
    "df_scaled.to_excel(score_path, index=False)\n"
   ]
  },
  {
   "cell_type": "code",
   "execution_count": null,
   "metadata": {},
   "outputs": [],
   "source": [
    "import numpy as np\n",
    "\n",
    "# 读取0-10得分表\n",
    "df_score = pd.read_excel(\"D:/HuaweiMoveData/Users/86136/Desktop/data/ESG_环境类_四项指标_0到10得分表.xlsx\")\n",
    "\n",
    "# 权重\n",
    "weight_exposure = 0.329  # for Absolute emissions\n",
    "weight_management = 0.263  # for Emission intensities\n",
    "\n",
    "# 获取对应得分列\n",
    "exp_col = \"Absolute emissions by scope (Scope 1, Scope 2, Scope 3 if applicable)\"\n",
    "mgmt_col = \"Emission intensities by scope\"\n",
    "\n",
    "# 加权得分计算\n",
    "df_score[\"加权后_敞口\"] = df_score[exp_col] * weight_exposure\n",
    "df_score[\"加权后_管理\"] = df_score[mgmt_col] * weight_management\n",
    "\n",
    "# 反推真实得分（按照相对权重还原）\n",
    "total_weight = weight_exposure + weight_management\n",
    "df_score[\"敞口得分\"] = df_score[\"加权后_敞口\"] / weight_exposure\n",
    "df_score[\"管理得分\"] = df_score[\"加权后_管理\"] / weight_management\n",
    "\n",
    "# 应用关键议题得分公式：7 - (max(敞口得分, 2) - 管理得分)\n",
    "df_score[\"关键议题得分\"] = 7 - (np.maximum(df_score[\"敞口得分\"], 2) - df_score[\"管理得分\"])\n",
    "df_score[\"关键议题得分\"] = df_score[\"关键议题得分\"].clip(lower=0, upper=10).round(1)\n",
    "\n",
    "# 添加为第六列\n",
    "df_score.insert(5, \"关键议题得分\", df_score.pop(\"关键议题得分\"))\n",
    "\n",
    "# 导出\n",
    "issue_score_path = \"D:/HuaweiMoveData/Users/86136/Desktop/data/ESG_环境类_含关键议题得分表.xlsx\"\n",
    "df_score.to_excel(issue_score_path, index=False)\n"
   ]
  },
  {
   "cell_type": "code",
   "execution_count": null,
   "metadata": {},
   "outputs": [],
   "source": [
    "# 水议题的权重\n",
    "weight_exposure_water = 0.211  # for Total water consumption\n",
    "weight_management_water = 0.197  # for Water consumption intensity\n",
    "\n",
    "# 获取得分列\n",
    "exp_col_water = \"Total water consumption\"\n",
    "mgmt_col_water = \"Water consumption intensity\"\n",
    "\n",
    "# 加权得分\n",
    "df_score[\"加权后_敞口（水）\"] = df_score[exp_col_water] * weight_exposure_water\n",
    "df_score[\"加权后_管理（水）\"] = df_score[mgmt_col_water] * weight_management_water\n",
    "\n",
    "# 反推真实得分\n",
    "df_score[\"敞口得分（水）\"] = df_score[\"加权后_敞口（水）\"] / weight_exposure_water\n",
    "df_score[\"管理得分（水）\"] = df_score[\"加权后_管理（水）\"] / weight_management_water\n",
    "\n",
    "# 应用议题得分公式：7 - (max(敞口, 2) - 管理)\n",
    "df_score[\"关键议题得分（水）\"] = 7 - (np.maximum(df_score[\"敞口得分（水）\"], 2) - df_score[\"管理得分（水）\"])\n",
    "df_score[\"关键议题得分（水）\"] = df_score[\"关键议题得分（水）\"].clip(lower=0, upper=10).round(1)\n",
    "\n",
    "# 插入在最后一列\n",
    "df_score[\"关键议题得分（水）\"] = df_score.pop(\"关键议题得分（水）\")\n",
    "\n",
    "# 导出更新表格\n",
    "water_issue_score_path = \"D:/HuaweiMoveData/Users/86136/Desktop/data/ESG_环境类_含两个关键议题得分表.xlsx\"\n",
    "df_score.to_excel(water_issue_score_path, index=False)\n"
   ]
  },
  {
   "cell_type": "code",
   "execution_count": null,
   "metadata": {},
   "outputs": [],
   "source": [
    "# 定义两个关键议题的权重\n",
    "weight_1 = 0.592  # Absolute emissions + Emission intensity\n",
    "weight_2 = 0.408  # Water consumption + Water consumption intensity\n",
    "\n",
    "# 组合加权总得分列\n",
    "df_score[\"议题总得分\"] = (\n",
    "    df_score[\"关键议题得分\"] * weight_1 +\n",
    "    df_score[\"关键议题得分（水）\"] * weight_2\n",
    ").round(2)\n",
    "\n",
    "# 导出添加“议题总得分”的最终表格\n",
    "final_issue_score_path = \"D:/HuaweiMoveData/Users/86136/Desktop/data/ESG_环境类_含总议题得分表.xlsx\"\n",
    "df_score.to_excel(final_issue_score_path, index=False)"
   ]
  }
 ],
 "metadata": {
  "kernelspec": {
   "display_name": "Python 3",
   "language": "python",
   "name": "python3"
  },
  "language_info": {
   "codemirror_mode": {
    "name": "ipython",
    "version": 3
   },
   "file_extension": ".py",
   "mimetype": "text/x-python",
   "name": "python",
   "nbconvert_exporter": "python",
   "pygments_lexer": "ipython3",
   "version": "3.12.6"
  }
 },
 "nbformat": 4,
 "nbformat_minor": 2
}
